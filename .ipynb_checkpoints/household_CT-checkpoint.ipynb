{
 "cells": [
  {
   "cell_type": "markdown",
   "metadata": {},
   "source": [
    "# Machine Learning Engineer Nanodegree\n",
    "## Supervised Learning\n",
    "## Project: Household Classification for Cash Transfer"
   ]
  },
  {
   "cell_type": "markdown",
   "metadata": {},
   "source": [
    "----\n",
    "## Exploring the Data\n",
    "We'll start by importing the dataset and peeking into the imported data. \n",
    "Going forward in the document, the following terms and abbreviations will be used:\n",
    "- HH - Household\n",
    "- CT - Cash Transfer\n",
    "- Group/Household group - These are partitioned into 2 groups; group 1 which receive regular payment and group 2 which are paid on emergency scenarios\n",
    "\n",
    "**Note** in our case _group 1 == True_, _group 2 == False_"
   ]
  },
  {
   "cell_type": "code",
   "execution_count": 4,
   "metadata": {
    "scrolled": false
   },
   "outputs": [
    {
     "data": {
      "text/html": [
       "<div>\n",
       "<style scoped>\n",
       "    .dataframe tbody tr th:only-of-type {\n",
       "        vertical-align: middle;\n",
       "    }\n",
       "\n",
       "    .dataframe tbody tr th {\n",
       "        vertical-align: top;\n",
       "    }\n",
       "\n",
       "    .dataframe thead th {\n",
       "        text-align: right;\n",
       "    }\n",
       "</style>\n",
       "<table border=\"1\" class=\"dataframe\">\n",
       "  <thead>\n",
       "    <tr style=\"text-align: right;\">\n",
       "      <th></th>\n",
       "      <th>Gender</th>\n",
       "      <th>Age</th>\n",
       "      <th>Attended_school</th>\n",
       "      <th>Work_last_7days</th>\n",
       "      <th>Chronic_illness</th>\n",
       "      <th>Disabled</th>\n",
       "      <th>YearsChronicallyIll</th>\n",
       "      <th>WealthGroup</th>\n",
       "      <th>Resident_Provider</th>\n",
       "      <th>Polygamous</th>\n",
       "      <th>Children_Under_15</th>\n",
       "      <th>kids_under_15_in_settlement</th>\n",
       "      <th>wives_in_settlement</th>\n",
       "      <th>spouses_outside_hh</th>\n",
       "      <th>HHGroup</th>\n",
       "      <th>Toilet</th>\n",
       "      <th>Drinking_water</th>\n",
       "      <th>Land_Ha</th>\n",
       "    </tr>\n",
       "  </thead>\n",
       "  <tbody>\n",
       "    <tr>\n",
       "      <th>0</th>\n",
       "      <td>Male</td>\n",
       "      <td>62</td>\n",
       "      <td>Never</td>\n",
       "      <td>Herding-Worked on own/family agri. holding</td>\n",
       "      <td>0</td>\n",
       "      <td>1</td>\n",
       "      <td>0</td>\n",
       "      <td>Very Poor</td>\n",
       "      <td>All live here all of the time</td>\n",
       "      <td>0.0</td>\n",
       "      <td>0.0</td>\n",
       "      <td>0.0</td>\n",
       "      <td>0.0</td>\n",
       "      <td>0.0</td>\n",
       "      <td>True</td>\n",
       "      <td>Bush-None</td>\n",
       "      <td>Tube well/borehole with pump</td>\n",
       "      <td>0</td>\n",
       "    </tr>\n",
       "    <tr>\n",
       "      <th>1</th>\n",
       "      <td>Female</td>\n",
       "      <td>75</td>\n",
       "      <td>Never</td>\n",
       "      <td>Other</td>\n",
       "      <td>0</td>\n",
       "      <td>0</td>\n",
       "      <td>0</td>\n",
       "      <td>Very Poor</td>\n",
       "      <td>All live here all of the time</td>\n",
       "      <td>0.0</td>\n",
       "      <td>0.0</td>\n",
       "      <td>0.0</td>\n",
       "      <td>0.0</td>\n",
       "      <td>0.0</td>\n",
       "      <td>False</td>\n",
       "      <td>Bush-None</td>\n",
       "      <td>Tube well/borehole with pump</td>\n",
       "      <td>0</td>\n",
       "    </tr>\n",
       "    <tr>\n",
       "      <th>2</th>\n",
       "      <td>Male</td>\n",
       "      <td>54</td>\n",
       "      <td>Yes, but now now</td>\n",
       "      <td>Worked on own/family business</td>\n",
       "      <td>0</td>\n",
       "      <td>0</td>\n",
       "      <td>0</td>\n",
       "      <td>Very Poor</td>\n",
       "      <td>All live here all of the time</td>\n",
       "      <td>0.0</td>\n",
       "      <td>0.0</td>\n",
       "      <td>0.0</td>\n",
       "      <td>0.0</td>\n",
       "      <td>0.0</td>\n",
       "      <td>False</td>\n",
       "      <td>Covered pit latrine</td>\n",
       "      <td>Tube well/borehole with pump</td>\n",
       "      <td>0</td>\n",
       "    </tr>\n",
       "    <tr>\n",
       "      <th>3</th>\n",
       "      <td>Male</td>\n",
       "      <td>48</td>\n",
       "      <td>Never</td>\n",
       "      <td>Herding-Worked on own/family agri. holding</td>\n",
       "      <td>0</td>\n",
       "      <td>0</td>\n",
       "      <td>0</td>\n",
       "      <td>Very Poor</td>\n",
       "      <td>All live here all of the time</td>\n",
       "      <td>0.0</td>\n",
       "      <td>0.0</td>\n",
       "      <td>0.0</td>\n",
       "      <td>0.0</td>\n",
       "      <td>0.0</td>\n",
       "      <td>False</td>\n",
       "      <td>Bush-None</td>\n",
       "      <td>Tube well/borehole with pump</td>\n",
       "      <td>0</td>\n",
       "    </tr>\n",
       "    <tr>\n",
       "      <th>4</th>\n",
       "      <td>Female</td>\n",
       "      <td>35</td>\n",
       "      <td>Never</td>\n",
       "      <td>Worked on own/family business</td>\n",
       "      <td>0</td>\n",
       "      <td>0</td>\n",
       "      <td>0</td>\n",
       "      <td>Very Poor</td>\n",
       "      <td>All live here all of the time</td>\n",
       "      <td>0.0</td>\n",
       "      <td>0.0</td>\n",
       "      <td>0.0</td>\n",
       "      <td>0.0</td>\n",
       "      <td>0.0</td>\n",
       "      <td>False</td>\n",
       "      <td>Bush-None</td>\n",
       "      <td>Tube well/borehole with pump</td>\n",
       "      <td>0</td>\n",
       "    </tr>\n",
       "  </tbody>\n",
       "</table>\n",
       "</div>"
      ],
      "text/plain": [
       "   Gender  Age   Attended_school                             Work_last_7days  \\\n",
       "0    Male   62             Never  Herding-Worked on own/family agri. holding   \n",
       "1  Female   75             Never                                       Other   \n",
       "2    Male   54  Yes, but now now               Worked on own/family business   \n",
       "3    Male   48             Never  Herding-Worked on own/family agri. holding   \n",
       "4  Female   35             Never               Worked on own/family business   \n",
       "\n",
       "   Chronic_illness  Disabled  YearsChronicallyIll WealthGroup  \\\n",
       "0                0         1                    0   Very Poor   \n",
       "1                0         0                    0   Very Poor   \n",
       "2                0         0                    0   Very Poor   \n",
       "3                0         0                    0   Very Poor   \n",
       "4                0         0                    0   Very Poor   \n",
       "\n",
       "               Resident_Provider  Polygamous  Children_Under_15  \\\n",
       "0  All live here all of the time         0.0                0.0   \n",
       "1  All live here all of the time         0.0                0.0   \n",
       "2  All live here all of the time         0.0                0.0   \n",
       "3  All live here all of the time         0.0                0.0   \n",
       "4  All live here all of the time         0.0                0.0   \n",
       "\n",
       "   kids_under_15_in_settlement  wives_in_settlement  spouses_outside_hh  \\\n",
       "0                          0.0                  0.0                 0.0   \n",
       "1                          0.0                  0.0                 0.0   \n",
       "2                          0.0                  0.0                 0.0   \n",
       "3                          0.0                  0.0                 0.0   \n",
       "4                          0.0                  0.0                 0.0   \n",
       "\n",
       "   HHGroup               Toilet                Drinking_water  Land_Ha  \n",
       "0     True            Bush-None  Tube well/borehole with pump        0  \n",
       "1    False            Bush-None  Tube well/borehole with pump        0  \n",
       "2    False  Covered pit latrine  Tube well/borehole with pump        0  \n",
       "3    False            Bush-None  Tube well/borehole with pump        0  \n",
       "4    False            Bush-None  Tube well/borehole with pump        0  "
      ]
     },
     "metadata": {},
     "output_type": "display_data"
    }
   ],
   "source": [
    "# Import libraries necessary for this project\n",
    "import numpy as np\n",
    "import pandas as pd\n",
    "from time import time\n",
    "from IPython.display import display # Allows the use of display() for DataFrames\n",
    "import matplotlib.pyplot as pl\n",
    "\n",
    "# Import supplementary visualization code visuals.py\n",
    "import visuals as vs\n",
    "\n",
    "# Pretty display for notebooks\n",
    "%matplotlib inline\n",
    "\n",
    "# Load the Census dataset\n",
    "data = pd.read_csv(\"mlnd-ds-2.csv\")\n",
    "\n",
    "# Success - Display the first record\n",
    "display(data.head())"
   ]
  },
  {
   "cell_type": "markdown",
   "metadata": {},
   "source": [
    "### Data Exploration\n",
    "A cursory investigation of the dataset will determine how many HH fit into either group, This will give us an indication percentage of HH in group 1 versus HH in group 2, we will be computing the following:\n",
    "- The total number of records, `'n_records'`\n",
    "- HH in group 1, `'hh_g1'`.\n",
    "- HH in group 2, `'hh_g2'`.\n",
    "- Percentage HH in group 1, `'greater_percent'`."
   ]
  },
  {
   "cell_type": "code",
   "execution_count": 5,
   "metadata": {
    "scrolled": true
   },
   "outputs": [
    {
     "name": "stdout",
     "output_type": "stream",
     "text": [
      "Total number of records: 100000\n",
      "HH in group 1: 27245\n",
      "HH in group 2: 72755\n",
      "Percentage HH in group 1: 27.25%\n",
      "Percentage HH in group 2: 72.76%\n"
     ]
    }
   ],
   "source": [
    "n_records = len(data['HHGroup'])\n",
    "\n",
    "hh_g1 = len(np.where(data['HHGroup'] == True)[0])\n",
    "hh_g2 = len(np.where(data['HHGroup'] == False)[0])\n",
    "hh_1_perc = float(hh_g1) / float(n_records) * 100\n",
    "hh_2_perc = float(hh_g2) / float(n_records) * 100\n",
    "\n",
    "# Print the results\n",
    "\n",
    "print(\"Total number of records: {}\".format(n_records))\n",
    "print(\"HH in group 1: {}\".format(hh_g1))\n",
    "print(\"HH in group 2: {}\".format(hh_g2))\n",
    "print(\"Percentage HH in group 1: {:,.2f}%\".format(hh_1_perc))\n",
    "print(\"Percentage HH in group 2: {:,.2f}%\".format(hh_2_perc))\n"
   ]
  },
  {
   "cell_type": "markdown",
   "metadata": {},
   "source": [
    "** Features Exploration **\n",
    "\n",
    "* **Gender**: Male, Female\n",
    "* **Age**: continuous. \n",
    "* **Attended_school**: Currently attending, Never, Yes but not now, SKIP\n",
    "* **Work_last_7days** (had work at time of registration ?):  SKIP, Worked for pay, On leave, Sick leave, Worked on own/family, business, Herding-Worked on own/family agri. holding, Seeking work, Doing nothing, Retired, Homemaker, Full-time, student, In capacitated, Other \n",
    "* **Chronic_illness**: 0 - false, 1- true, 2-skip\n",
    "* **Disabled**: 0- false, 1- true\n",
    "* **YearsChronicallyIll**: continuous\n",
    "* **WealthGroup**: Better Off, Middle, Poor, Very Poor\n",
    "* **Resident_Provider**: SKIP, All live here all of the time, Some live here while others migrate, All migrate together-fully mobile, Inside this household, Outside household but inside compound-settlement, Outside this compound-settlement\n",
    "* **Polygamous**: discrete\n",
    "* **Children_Under_15**: discrete\n",
    "* **kids_under_15_in_settlement**: discrete\n",
    "* **wives_in_settlement**: discrete\n",
    "* **spouses_outside_hh**: discrete\n",
    "* **HHGroup**: categorical\n",
    "* **Toilet**: Flush toilet, VIP latrine, Uncovered pit latrine, Covered pit latrine, Bucket/pan, Bush-None, Other\n",
    "* **Drinking_water**: Piped water inside dwelling, Piped water into plot/yard, Public tap, Tube well/borehole with pump, Protected dug well, Protected spring, Rainwater collection, Unprotected dug well/springs, River, Lake, ponds or similar, Water truck/vendor, Bottled water, Other\n",
    "* **Land_Ha**: discrete"
   ]
  },
  {
   "cell_type": "markdown",
   "metadata": {},
   "source": [
    "### <span style=\"\">Distributions</span>\n",
    "View age distributions before data preprocessing. Changes at the preprocessing stage are likely to affect the age distribution\n"
   ]
  },
  {
   "cell_type": "code",
   "execution_count": 6,
   "metadata": {
    "scrolled": false
   },
   "outputs": [
    {
     "name": "stdout",
     "output_type": "stream",
     "text": [
      "Percentage of dataset records of YearsChronicallyIll feature 1.54%, age 100.00%\n",
      "                 Age  Chronic_illness       Disabled  YearsChronicallyIll  \\\n",
      "count  100000.000000    100000.000000  100000.000000        100000.000000   \n",
      "mean       44.969680         0.018830       0.023450             0.113840   \n",
      "std        16.113227         0.135999       0.151329             1.343986   \n",
      "min         4.000000         0.000000       0.000000             0.000000   \n",
      "25%        32.000000         0.000000       0.000000             0.000000   \n",
      "50%        42.000000         0.000000       0.000000             0.000000   \n",
      "75%        57.000000         0.000000       0.000000             0.000000   \n",
      "max       124.000000         2.000000       1.000000            70.000000   \n",
      "\n",
      "         Polygamous  Children_Under_15  kids_under_15_in_settlement  \\\n",
      "count  98360.000000       95019.000000                 95019.000000   \n",
      "mean       0.126718           0.047033                     0.025311   \n",
      "std        0.349180           0.507420                     0.340774   \n",
      "min       -2.000000           0.000000                     0.000000   \n",
      "25%        0.000000           0.000000                     0.000000   \n",
      "50%        0.000000           0.000000                     0.000000   \n",
      "75%        0.000000           0.000000                     0.000000   \n",
      "max       10.000000          19.000000                    15.000000   \n",
      "\n",
      "       wives_in_settlement  spouses_outside_hh   Land_Ha  \n",
      "count         95019.000000        95019.000000  100000.0  \n",
      "mean              0.014944            0.034298       0.0  \n",
      "std               0.151844            0.227626       0.0  \n",
      "min               0.000000            0.000000       0.0  \n",
      "25%               0.000000            0.000000       0.0  \n",
      "50%               0.000000            0.000000       0.0  \n",
      "75%               0.000000            0.000000       0.0  \n",
      "max               5.000000            8.000000       0.0  \n"
     ]
    }
   ],
   "source": [
    "# check for records with *YearsChronicallyIll*\n",
    "t_yrsill = len(np.where(data['YearsChronicallyIll'] > 0)[0])\n",
    "t_age = len(np.where(data['Age'] > 0)[0])\n",
    "N = len(data)\n",
    "\n",
    "print(\"Percentage of dataset records of YearsChronicallyIll feature {:.2f}%, age {:.2f}%\".format(t_yrsill/N*100, t_age/N*100))\n",
    "\n",
    "#checking dataset stats\n",
    "print(data.describe())\n"
   ]
  },
  {
   "cell_type": "code",
   "execution_count": 8,
   "metadata": {
    "scrolled": false
   },
   "outputs": [
    {
     "data": {
      "image/png": "[encoded data removed]",
      "text/plain": [
       "<Figure size 792x360 with 1 Axes>"
      ]
     },
     "metadata": {},
     "output_type": "display_data"
    }
   ],
   "source": [
    "vs.agedist(data)"
   ]
  },
  {
   "cell_type": "code",
   "execution_count": 7,
   "metadata": {},
   "outputs": [
    {
     "data": {
      "image/png": "[encoded data removed]",
      "text/plain": [
       "<Figure size 792x360 with 1 Axes>"
      ]
     },
     "metadata": {},
     "output_type": "display_data"
    }
   ],
   "source": [
    "# Create figure\n",
    "fig = pl.figure(figsize = (11,5));\n",
    "feature = 'YearsChronicallyIll'\n",
    "\n",
    "ax = fig.add_subplot(1, 2, 1)\n",
    "ax.hist(data[feature], bins = 25, color = '#00A0A0')\n",
    "ax.set_title(\"'%s' Feature Distribution\"%(feature), fontsize = 14)\n",
    "#pl.xlim((1, 200))\n",
    "ax.set_xlabel('YearsChronicallyIll')\n",
    "ax.set_ylabel('Number of record')\n",
    "ax.set_ylim((0, 25000))\n",
    "ax.set_yticks([0, 5000, 10000, 15000, 20000, 25000])\n",
    "ax.set_yticklabels([0, 5000, 10000, 15000, 20000, '>25000'])\n",
    "\n",
    "# Plot aesthetics\n",
    "fig.suptitle(\"YearsChronicallyIll Distribution\", fontsize = 16, y = 1.03)\n",
    "\n",
    "fig.tight_layout()\n",
    "fig.show()"
   ]
  },
  {
   "cell_type": "markdown",
   "metadata": {},
   "source": [
    "----\n",
    "## Preparing the Data\n"
   ]
  },
  {
   "cell_type": "markdown",
   "metadata": {},
   "source": [
    "### Check for missing data\n",
    "We will preprocess using the MinMaxScaler feature for numerical values. We'll also drop features with missing data, shown by the 'SKIP' pattern."
   ]
  },
  {
   "cell_type": "code",
   "execution_count": 9,
   "metadata": {
    "scrolled": true
   },
   "outputs": [
    {
     "data": {
      "image/png": "[encoded data removed]",
      "text/plain": [
       "<Figure size 1440x360 with 1 Axes>"
      ]
     },
     "metadata": {},
     "output_type": "display_data"
    }
   ],
   "source": [
    "import matplotlib.pyplot as pl\n",
    "\n",
    "#checking for skips in data\n",
    "columns = data.columns\n",
    "skipds = {}\n",
    "\n",
    "for col in data.columns:\n",
    "    skipds[col] = [np.count_nonzero(data[col].astype(str) == 'SKIP')]\n",
    "    #print (\"Missing data in {} = {} \".format(col, skipds[col][0]))\n",
    "\n",
    "skip_df = pd.DataFrame(data = skipds)\n",
    "\n",
    "columns = skip_df.columns\n",
    "values = skip_df.values[0]\n",
    "rng = len(skip_df.columns)\n",
    "\n",
    "#print(columns, values, rng)\n",
    "# Create plot\n",
    "fig = pl.figure(figsize = (20,5))\n",
    "pl.title(\"Missing Data Per feature\", fontsize = 16)\n",
    "\n",
    "pl.bar(np.arange(rng), values, width = 0.6, align=\"center\", color = '#00A000', label = \"Feature Weight\")\n",
    "\n",
    "pl.xticks(np.arange(rng), columns)\n",
    "pl.xlim((-0.5, 18))\n",
    "pl.ylabel(\"Totals\", fontsize = 12)\n",
    "pl.xlabel(\"\", fontsize = 12)\n",
    "\n",
    "pl.legend(loc = 'upper center')\n",
    "pl.tight_layout()\n",
    "pl.show()     "
   ]
  },
  {
   "cell_type": "markdown",
   "metadata": {},
   "source": [
    "Note that Attended_school  and Resident_Provider features have a non trivial amount of missing data. These features will therefore be dropped"
   ]
  },
  {
   "cell_type": "code",
   "execution_count": 10,
   "metadata": {
    "scrolled": false
   },
   "outputs": [
    {
     "name": "stdout",
     "output_type": "stream",
     "text": [
      "Total records after 1st stage of preprocessing: 95000\n"
     ]
    }
   ],
   "source": [
    "#drop target label and features with non-trivial missing data\n",
    "fd = data.drop(['Attended_school', 'Resident_Provider'], axis=1)\n",
    "\n",
    "#convert skip to NaN\n",
    "fd2 = fd.replace('SKIP', np.NaN)\n",
    "\n",
    "fd2['Chronic_illness'].replace(2, np.NaN)\n",
    "fd2['Polygamous'].replace(-2, np.NaN)\n",
    "\n",
    "fd2.dropna(inplace=True)\n",
    "\n",
    "#display(fd2.isnull().any())\n",
    "               \n",
    "hhgroup_raw = fd2['HHGroup']\n",
    "fd2 = fd2.drop('HHGroup',axis=1)\n",
    "#display(fd2.head())\n",
    "\n",
    "print(\"Total records after 1st stage of preprocessing: {}\".format(len(fd2)))\n",
    "#display(fd2[fd2['Age']==43].head())"
   ]
  },
  {
   "cell_type": "code",
   "execution_count": 11,
   "metadata": {
    "scrolled": false
   },
   "outputs": [
    {
     "data": {
      "image/png": "[encoded data removed]",
      "text/plain": [
       "<Figure size 792x360 with 1 Axes>"
      ]
     },
     "metadata": {},
     "output_type": "display_data"
    }
   ],
   "source": [
    "#Distribution of age feature on the normalized dataset\n",
    "vs.agedist(fd2)"
   ]
  },
  {
   "cell_type": "markdown",
   "metadata": {},
   "source": [
    "Note marginal change in age distribution data above, where data for age < 20 years is no longer represented"
   ]
  },
  {
   "cell_type": "markdown",
   "metadata": {},
   "source": [
    "### Normalizing numerical features"
   ]
  },
  {
   "cell_type": "code",
   "execution_count": 12,
   "metadata": {
    "scrolled": false
   },
   "outputs": [
    {
     "name": "stdout",
     "output_type": "stream",
     "text": [
      "                Age  Chronic_illness      Disabled  YearsChronicallyIll  \\\n",
      "count  95000.000000     95000.000000  95000.000000         95000.000000   \n",
      "mean       0.344550         0.019000      0.023379             0.001742   \n",
      "std        0.131459         0.136603      0.151105             0.020180   \n",
      "min        0.000000         0.000000      0.000000             0.000000   \n",
      "25%        0.233333         0.000000      0.000000             0.000000   \n",
      "50%        0.316667         0.000000      0.000000             0.000000   \n",
      "75%        0.441667         0.000000      0.000000             0.000000   \n",
      "max        1.000000         2.000000      1.000000             1.000000   \n",
      "\n",
      "         Polygamous  Children_Under_15  kids_under_15_in_settlement  \\\n",
      "count  95000.000000       95000.000000                 95000.000000   \n",
      "mean       0.709519           0.002476                     0.001688   \n",
      "std        0.111633           0.026709                     0.022721   \n",
      "min        0.000000           0.000000                     0.000000   \n",
      "25%        0.666667           0.000000                     0.000000   \n",
      "50%        0.666667           0.000000                     0.000000   \n",
      "75%        0.666667           0.000000                     0.000000   \n",
      "max        1.000000           1.000000                     1.000000   \n",
      "\n",
      "       wives_in_settlement  spouses_outside_hh  Land_Ha  \n",
      "count         95000.000000        95000.000000  95000.0  \n",
      "mean              0.002989            0.004288      0.0  \n",
      "std               0.030372            0.028456      0.0  \n",
      "min               0.000000            0.000000      0.0  \n",
      "25%               0.000000            0.000000      0.0  \n",
      "50%               0.000000            0.000000      0.0  \n",
      "75%               0.000000            0.000000      0.0  \n",
      "max               1.000000            1.000000      0.0  \n"
     ]
    },
    {
     "data": {
      "text/html": [
       "<div>\n",
       "<style scoped>\n",
       "    .dataframe tbody tr th:only-of-type {\n",
       "        vertical-align: middle;\n",
       "    }\n",
       "\n",
       "    .dataframe tbody tr th {\n",
       "        vertical-align: top;\n",
       "    }\n",
       "\n",
       "    .dataframe thead th {\n",
       "        text-align: right;\n",
       "    }\n",
       "</style>\n",
       "<table border=\"1\" class=\"dataframe\">\n",
       "  <thead>\n",
       "    <tr style=\"text-align: right;\">\n",
       "      <th></th>\n",
       "      <th>Gender</th>\n",
       "      <th>Age</th>\n",
       "      <th>Work_last_7days</th>\n",
       "      <th>Chronic_illness</th>\n",
       "      <th>Disabled</th>\n",
       "      <th>YearsChronicallyIll</th>\n",
       "      <th>WealthGroup</th>\n",
       "      <th>Polygamous</th>\n",
       "      <th>Children_Under_15</th>\n",
       "      <th>kids_under_15_in_settlement</th>\n",
       "      <th>wives_in_settlement</th>\n",
       "      <th>spouses_outside_hh</th>\n",
       "      <th>Toilet</th>\n",
       "      <th>Drinking_water</th>\n",
       "      <th>Land_Ha</th>\n",
       "    </tr>\n",
       "  </thead>\n",
       "  <tbody>\n",
       "    <tr>\n",
       "      <th>0</th>\n",
       "      <td>Male</td>\n",
       "      <td>0.483333</td>\n",
       "      <td>Herding-Worked on own/family agri. holding</td>\n",
       "      <td>0</td>\n",
       "      <td>1</td>\n",
       "      <td>0.0</td>\n",
       "      <td>Very Poor</td>\n",
       "      <td>0.666667</td>\n",
       "      <td>0.0</td>\n",
       "      <td>0.0</td>\n",
       "      <td>0.0</td>\n",
       "      <td>0.0</td>\n",
       "      <td>Bush-None</td>\n",
       "      <td>Tube well/borehole with pump</td>\n",
       "      <td>0.0</td>\n",
       "    </tr>\n",
       "    <tr>\n",
       "      <th>1</th>\n",
       "      <td>Female</td>\n",
       "      <td>0.591667</td>\n",
       "      <td>Other</td>\n",
       "      <td>0</td>\n",
       "      <td>0</td>\n",
       "      <td>0.0</td>\n",
       "      <td>Very Poor</td>\n",
       "      <td>0.666667</td>\n",
       "      <td>0.0</td>\n",
       "      <td>0.0</td>\n",
       "      <td>0.0</td>\n",
       "      <td>0.0</td>\n",
       "      <td>Bush-None</td>\n",
       "      <td>Tube well/borehole with pump</td>\n",
       "      <td>0.0</td>\n",
       "    </tr>\n",
       "    <tr>\n",
       "      <th>2</th>\n",
       "      <td>Male</td>\n",
       "      <td>0.416667</td>\n",
       "      <td>Worked on own/family business</td>\n",
       "      <td>0</td>\n",
       "      <td>0</td>\n",
       "      <td>0.0</td>\n",
       "      <td>Very Poor</td>\n",
       "      <td>0.666667</td>\n",
       "      <td>0.0</td>\n",
       "      <td>0.0</td>\n",
       "      <td>0.0</td>\n",
       "      <td>0.0</td>\n",
       "      <td>Covered pit latrine</td>\n",
       "      <td>Tube well/borehole with pump</td>\n",
       "      <td>0.0</td>\n",
       "    </tr>\n",
       "    <tr>\n",
       "      <th>3</th>\n",
       "      <td>Male</td>\n",
       "      <td>0.366667</td>\n",
       "      <td>Herding-Worked on own/family agri. holding</td>\n",
       "      <td>0</td>\n",
       "      <td>0</td>\n",
       "      <td>0.0</td>\n",
       "      <td>Very Poor</td>\n",
       "      <td>0.666667</td>\n",
       "      <td>0.0</td>\n",
       "      <td>0.0</td>\n",
       "      <td>0.0</td>\n",
       "      <td>0.0</td>\n",
       "      <td>Bush-None</td>\n",
       "      <td>Tube well/borehole with pump</td>\n",
       "      <td>0.0</td>\n",
       "    </tr>\n",
       "    <tr>\n",
       "      <th>4</th>\n",
       "      <td>Female</td>\n",
       "      <td>0.258333</td>\n",
       "      <td>Worked on own/family business</td>\n",
       "      <td>0</td>\n",
       "      <td>0</td>\n",
       "      <td>0.0</td>\n",
       "      <td>Very Poor</td>\n",
       "      <td>0.666667</td>\n",
       "      <td>0.0</td>\n",
       "      <td>0.0</td>\n",
       "      <td>0.0</td>\n",
       "      <td>0.0</td>\n",
       "      <td>Bush-None</td>\n",
       "      <td>Tube well/borehole with pump</td>\n",
       "      <td>0.0</td>\n",
       "    </tr>\n",
       "  </tbody>\n",
       "</table>\n",
       "</div>"
      ],
      "text/plain": [
       "   Gender       Age                             Work_last_7days  \\\n",
       "0    Male  0.483333  Herding-Worked on own/family agri. holding   \n",
       "1  Female  0.591667                                       Other   \n",
       "2    Male  0.416667               Worked on own/family business   \n",
       "3    Male  0.366667  Herding-Worked on own/family agri. holding   \n",
       "4  Female  0.258333               Worked on own/family business   \n",
       "\n",
       "   Chronic_illness  Disabled  YearsChronicallyIll WealthGroup  Polygamous  \\\n",
       "0                0         1                  0.0   Very Poor    0.666667   \n",
       "1                0         0                  0.0   Very Poor    0.666667   \n",
       "2                0         0                  0.0   Very Poor    0.666667   \n",
       "3                0         0                  0.0   Very Poor    0.666667   \n",
       "4                0         0                  0.0   Very Poor    0.666667   \n",
       "\n",
       "   Children_Under_15  kids_under_15_in_settlement  wives_in_settlement  \\\n",
       "0                0.0                          0.0                  0.0   \n",
       "1                0.0                          0.0                  0.0   \n",
       "2                0.0                          0.0                  0.0   \n",
       "3                0.0                          0.0                  0.0   \n",
       "4                0.0                          0.0                  0.0   \n",
       "\n",
       "   spouses_outside_hh               Toilet                Drinking_water  \\\n",
       "0                 0.0            Bush-None  Tube well/borehole with pump   \n",
       "1                 0.0            Bush-None  Tube well/borehole with pump   \n",
       "2                 0.0  Covered pit latrine  Tube well/borehole with pump   \n",
       "3                 0.0            Bush-None  Tube well/borehole with pump   \n",
       "4                 0.0            Bush-None  Tube well/borehole with pump   \n",
       "\n",
       "   Land_Ha  \n",
       "0      0.0  \n",
       "1      0.0  \n",
       "2      0.0  \n",
       "3      0.0  \n",
       "4      0.0  "
      ]
     },
     "metadata": {},
     "output_type": "display_data"
    }
   ],
   "source": [
    "# Import sklearn.preprocessing.StandardScaler\n",
    "from sklearn.preprocessing import MinMaxScaler\n",
    "\n",
    "# Initialize a scaler, then apply it to the features\n",
    "scaler = MinMaxScaler() # default=(0, 1)\n",
    "numerical = ['Age','YearsChronicallyIll', 'Polygamous', 'Children_Under_15', 'kids_under_15_in_settlement', 'wives_in_settlement', 'spouses_outside_hh','Land_Ha']\n",
    "\n",
    "features_minmax_transform = pd.DataFrame(data = fd2)\n",
    "#display(features_log_minmax_transform[:1])\n",
    "features_minmax_transform[numerical] = scaler.fit_transform(fd2[numerical])\n",
    "\n",
    "print(features_minmax_transform.describe())\n",
    "\n",
    "# records with scaling applied\n",
    "display(features_minmax_transform.head())"
   ]
  },
  {
   "cell_type": "markdown",
   "metadata": {},
   "source": [
    "### Categorical Variables conversion\n",
    "\n",
    "From the table in **Exploring the Data** above, we can see there are several features for each record that are non-numeric. Will convert categorical variables by using the **one-hot encoding** scheme. \n",
    "\n",
    "We'll also convert the target variable to numerical entries"
   ]
  },
  {
   "cell_type": "code",
   "execution_count": 13,
   "metadata": {
    "scrolled": false
   },
   "outputs": [
    {
     "name": "stdout",
     "output_type": "stream",
     "text": [
      "47 total features after one-hot encoding.\n"
     ]
    },
    {
     "data": {
      "text/html": [
       "<div>\n",
       "<style scoped>\n",
       "    .dataframe tbody tr th:only-of-type {\n",
       "        vertical-align: middle;\n",
       "    }\n",
       "\n",
       "    .dataframe tbody tr th {\n",
       "        vertical-align: top;\n",
       "    }\n",
       "\n",
       "    .dataframe thead th {\n",
       "        text-align: right;\n",
       "    }\n",
       "</style>\n",
       "<table border=\"1\" class=\"dataframe\">\n",
       "  <thead>\n",
       "    <tr style=\"text-align: right;\">\n",
       "      <th></th>\n",
       "      <th>Age</th>\n",
       "      <th>Chronic_illness</th>\n",
       "      <th>Disabled</th>\n",
       "      <th>YearsChronicallyIll</th>\n",
       "      <th>Polygamous</th>\n",
       "      <th>Children_Under_15</th>\n",
       "      <th>kids_under_15_in_settlement</th>\n",
       "      <th>wives_in_settlement</th>\n",
       "      <th>spouses_outside_hh</th>\n",
       "      <th>Land_Ha</th>\n",
       "      <th>...</th>\n",
       "      <th>Drinking_water_Piped water inside dwelling</th>\n",
       "      <th>Drinking_water_Piped water into plot/yard</th>\n",
       "      <th>Drinking_water_Protected dug well</th>\n",
       "      <th>Drinking_water_Protected spring</th>\n",
       "      <th>Drinking_water_Public tap</th>\n",
       "      <th>Drinking_water_Rainwater collection</th>\n",
       "      <th>Drinking_water_River, Lake, ponds or similar</th>\n",
       "      <th>Drinking_water_Tube well/borehole with pump</th>\n",
       "      <th>Drinking_water_Unprotected dug well/springs</th>\n",
       "      <th>Drinking_water_Water truck/vendor</th>\n",
       "    </tr>\n",
       "  </thead>\n",
       "  <tbody>\n",
       "    <tr>\n",
       "      <th>0</th>\n",
       "      <td>0.483333</td>\n",
       "      <td>0</td>\n",
       "      <td>1</td>\n",
       "      <td>0.0</td>\n",
       "      <td>0.666667</td>\n",
       "      <td>0.0</td>\n",
       "      <td>0.0</td>\n",
       "      <td>0.0</td>\n",
       "      <td>0.0</td>\n",
       "      <td>0.0</td>\n",
       "      <td>...</td>\n",
       "      <td>0</td>\n",
       "      <td>0</td>\n",
       "      <td>0</td>\n",
       "      <td>0</td>\n",
       "      <td>0</td>\n",
       "      <td>0</td>\n",
       "      <td>0</td>\n",
       "      <td>1</td>\n",
       "      <td>0</td>\n",
       "      <td>0</td>\n",
       "    </tr>\n",
       "    <tr>\n",
       "      <th>1</th>\n",
       "      <td>0.591667</td>\n",
       "      <td>0</td>\n",
       "      <td>0</td>\n",
       "      <td>0.0</td>\n",
       "      <td>0.666667</td>\n",
       "      <td>0.0</td>\n",
       "      <td>0.0</td>\n",
       "      <td>0.0</td>\n",
       "      <td>0.0</td>\n",
       "      <td>0.0</td>\n",
       "      <td>...</td>\n",
       "      <td>0</td>\n",
       "      <td>0</td>\n",
       "      <td>0</td>\n",
       "      <td>0</td>\n",
       "      <td>0</td>\n",
       "      <td>0</td>\n",
       "      <td>0</td>\n",
       "      <td>1</td>\n",
       "      <td>0</td>\n",
       "      <td>0</td>\n",
       "    </tr>\n",
       "    <tr>\n",
       "      <th>2</th>\n",
       "      <td>0.416667</td>\n",
       "      <td>0</td>\n",
       "      <td>0</td>\n",
       "      <td>0.0</td>\n",
       "      <td>0.666667</td>\n",
       "      <td>0.0</td>\n",
       "      <td>0.0</td>\n",
       "      <td>0.0</td>\n",
       "      <td>0.0</td>\n",
       "      <td>0.0</td>\n",
       "      <td>...</td>\n",
       "      <td>0</td>\n",
       "      <td>0</td>\n",
       "      <td>0</td>\n",
       "      <td>0</td>\n",
       "      <td>0</td>\n",
       "      <td>0</td>\n",
       "      <td>0</td>\n",
       "      <td>1</td>\n",
       "      <td>0</td>\n",
       "      <td>0</td>\n",
       "    </tr>\n",
       "    <tr>\n",
       "      <th>3</th>\n",
       "      <td>0.366667</td>\n",
       "      <td>0</td>\n",
       "      <td>0</td>\n",
       "      <td>0.0</td>\n",
       "      <td>0.666667</td>\n",
       "      <td>0.0</td>\n",
       "      <td>0.0</td>\n",
       "      <td>0.0</td>\n",
       "      <td>0.0</td>\n",
       "      <td>0.0</td>\n",
       "      <td>...</td>\n",
       "      <td>0</td>\n",
       "      <td>0</td>\n",
       "      <td>0</td>\n",
       "      <td>0</td>\n",
       "      <td>0</td>\n",
       "      <td>0</td>\n",
       "      <td>0</td>\n",
       "      <td>1</td>\n",
       "      <td>0</td>\n",
       "      <td>0</td>\n",
       "    </tr>\n",
       "    <tr>\n",
       "      <th>4</th>\n",
       "      <td>0.258333</td>\n",
       "      <td>0</td>\n",
       "      <td>0</td>\n",
       "      <td>0.0</td>\n",
       "      <td>0.666667</td>\n",
       "      <td>0.0</td>\n",
       "      <td>0.0</td>\n",
       "      <td>0.0</td>\n",
       "      <td>0.0</td>\n",
       "      <td>0.0</td>\n",
       "      <td>...</td>\n",
       "      <td>0</td>\n",
       "      <td>0</td>\n",
       "      <td>0</td>\n",
       "      <td>0</td>\n",
       "      <td>0</td>\n",
       "      <td>0</td>\n",
       "      <td>0</td>\n",
       "      <td>1</td>\n",
       "      <td>0</td>\n",
       "      <td>0</td>\n",
       "    </tr>\n",
       "  </tbody>\n",
       "</table>\n",
       "<p>5 rows × 47 columns</p>\n",
       "</div>"
      ],
      "text/plain": [
       "        Age  Chronic_illness  Disabled  YearsChronicallyIll  Polygamous  \\\n",
       "0  0.483333                0         1                  0.0    0.666667   \n",
       "1  0.591667                0         0                  0.0    0.666667   \n",
       "2  0.416667                0         0                  0.0    0.666667   \n",
       "3  0.366667                0         0                  0.0    0.666667   \n",
       "4  0.258333                0         0                  0.0    0.666667   \n",
       "\n",
       "   Children_Under_15  kids_under_15_in_settlement  wives_in_settlement  \\\n",
       "0                0.0                          0.0                  0.0   \n",
       "1                0.0                          0.0                  0.0   \n",
       "2                0.0                          0.0                  0.0   \n",
       "3                0.0                          0.0                  0.0   \n",
       "4                0.0                          0.0                  0.0   \n",
       "\n",
       "   spouses_outside_hh  Land_Ha                ...                  \\\n",
       "0                 0.0      0.0                ...                   \n",
       "1                 0.0      0.0                ...                   \n",
       "2                 0.0      0.0                ...                   \n",
       "3                 0.0      0.0                ...                   \n",
       "4                 0.0      0.0                ...                   \n",
       "\n",
       "   Drinking_water_Piped water inside dwelling  \\\n",
       "0                                           0   \n",
       "1                                           0   \n",
       "2                                           0   \n",
       "3                                           0   \n",
       "4                                           0   \n",
       "\n",
       "   Drinking_water_Piped water into plot/yard  \\\n",
       "0                                          0   \n",
       "1                                          0   \n",
       "2                                          0   \n",
       "3                                          0   \n",
       "4                                          0   \n",
       "\n",
       "   Drinking_water_Protected dug well  Drinking_water_Protected spring  \\\n",
       "0                                  0                                0   \n",
       "1                                  0                                0   \n",
       "2                                  0                                0   \n",
       "3                                  0                                0   \n",
       "4                                  0                                0   \n",
       "\n",
       "   Drinking_water_Public tap  Drinking_water_Rainwater collection  \\\n",
       "0                          0                                    0   \n",
       "1                          0                                    0   \n",
       "2                          0                                    0   \n",
       "3                          0                                    0   \n",
       "4                          0                                    0   \n",
       "\n",
       "   Drinking_water_River, Lake, ponds or similar  \\\n",
       "0                                             0   \n",
       "1                                             0   \n",
       "2                                             0   \n",
       "3                                             0   \n",
       "4                                             0   \n",
       "\n",
       "   Drinking_water_Tube well/borehole with pump  \\\n",
       "0                                            1   \n",
       "1                                            1   \n",
       "2                                            1   \n",
       "3                                            1   \n",
       "4                                            1   \n",
       "\n",
       "   Drinking_water_Unprotected dug well/springs  \\\n",
       "0                                            0   \n",
       "1                                            0   \n",
       "2                                            0   \n",
       "3                                            0   \n",
       "4                                            0   \n",
       "\n",
       "   Drinking_water_Water truck/vendor  \n",
       "0                                  0  \n",
       "1                                  0  \n",
       "2                                  0  \n",
       "3                                  0  \n",
       "4                                  0  \n",
       "\n",
       "[5 rows x 47 columns]"
      ]
     },
     "metadata": {},
     "output_type": "display_data"
    }
   ],
   "source": [
    "features_final = pd.get_dummies(features_minmax_transform)\n",
    "#print features_log_minmax_transform[:1]\n",
    "hhgroup = hhgroup_raw.replace([False,True],[0,1]) \n",
    "\n",
    "# Print the number of features after one-hot encoding\n",
    "encoded = list(features_final.columns)\n",
    "print(\"{} total features after one-hot encoding.\".format(len(encoded)))\n",
    "\n",
    "# Uncomment the following line to see the encoded feature names\n",
    "#print (encoded)\n",
    "display(features_final.head())\n"
   ]
  },
  {
   "cell_type": "markdown",
   "metadata": {},
   "source": [
    "### Split Data\n",
    "We will split the data (both features and their labels) into training and test sets. 80% of the data will be used for training and 20% for testing."
   ]
  },
  {
   "cell_type": "code",
   "execution_count": 14,
   "metadata": {
    "scrolled": true
   },
   "outputs": [
    {
     "name": "stdout",
     "output_type": "stream",
     "text": [
      "Training set has 76000 samples.\n",
      "Testing set has 19000 samples.\n"
     ]
    }
   ],
   "source": [
    "# Import train_test_split\n",
    "from sklearn.model_selection import train_test_split\n",
    "\n",
    "# Split the 'features' and 'income' data into training and testing sets\n",
    "X_train, X_test, y_train, y_test = train_test_split(features_final, \n",
    "                                                    hhgroup, \n",
    "                                                    test_size = 0.2, \n",
    "                                                    random_state = 0)\n",
    "\n",
    "print(\"Training set has {} samples.\".format(X_train.shape[0]))\n",
    "print(\"Testing set has {} samples.\".format(X_test.shape[0]))\n",
    "\n"
   ]
  },
  {
   "cell_type": "markdown",
   "metadata": {},
   "source": [
    "----\n",
    "## Evaluating Model Performance\n",
    "In this section, we will investigate three different algorithms to determine which is best for modeling the data. we'll start with a **_naive predictor_**."
   ]
  },
  {
   "cell_type": "markdown",
   "metadata": {},
   "source": [
    "### Metrics and the Naive Predictor\n",
    "We'll be employing the fbeta score checking, with emphasis on recall, $\\beta > 1$\n",
    "\n",
    "$$ F_{\\beta} = (1 + \\beta^2) \\cdot \\frac{precision \\cdot recall}{\\left( \\beta^2 \\cdot precision \\right) + recall} $$\n",
    "\n",
    "\n",
    "#### Definition of accuracy, precision, recall\n",
    "\n",
    "** Recall(sensitivity)** how many of the true positives were _recalled_ (found), number of correct hits found\n",
    "\n",
    "`[True Positives/(True Positives + False Negatives)]`\n",
    "\n",
    "** Precision ** how many of the returned hits were true positive\n",
    "\n",
    "`[True Positives/(True Positives + False Positives)]`\n",
    "\n",
    "** Accuracy ** is the fraction of predictions the model got right\n",
    "\n",
    "`[(True Positives + True Negatives)/Total Number of Records]`"
   ]
  },
  {
   "cell_type": "markdown",
   "metadata": {},
   "source": [
    "### Question 1 - Naive Predictor Performace\n",
    "* If we chose a model that always predicted a Household is in group 1, what would  that model's accuracy and F-score be on this dataset? "
   ]
  },
  {
   "cell_type": "code",
   "execution_count": 15,
   "metadata": {
    "scrolled": true
   },
   "outputs": [
    {
     "name": "stdout",
     "output_type": "stream",
     "text": [
      "Naive Predictor: [Accuracy score: 0.2744, F-score: 0.5514, recall: 1.0000, precision: 0.2744]\n"
     ]
    }
   ],
   "source": [
    "start_time = time()\n",
    "\n",
    "TP = np.sum(hhgroup)\n",
    "FP = hhgroup.count() - TP # Specific to the naive case\n",
    "\n",
    "TN = 0 # No predicted negatives in the naive case\n",
    "FN = 0 # No predicted negatives in the naive case\n",
    "bt = 1.5\n",
    "\n",
    "#print tp_v, fp_v\n",
    "\n",
    "# TODO: Calculate accuracy, precision and recall\n",
    "accuracy = float(TP)/len(hhgroup)\n",
    "recall = float(TP)/(float(TP) + float(FN))\n",
    "precision = float(TP)/(float(TP) + float(FP))\n",
    "\n",
    "#print accuracy, recall, precision, len(income)\n",
    "fscore = (1 + bt**2) * (precision * recall)/((bt**2 * precision) + recall)\n",
    "\n",
    "# Print the results \n",
    "print(\"Naive Predictor: [Accuracy score: {:,.4f}, F-score: {:,.4f}, recall: {:,.4f}, precision: {:,.4f}]\"\n",
    "      .format(accuracy, fscore, recall, precision))\n",
    "\n",
    "#print(time() - start_time)"
   ]
  },
  {
   "cell_type": "markdown",
   "metadata": {},
   "source": [
    "###  Supervised Learning Models\n",
    "Tested the following supervised learning algorithms: \n",
    "\n",
    "- XGBoost\n",
    "- Decision Trees\n",
    "- Support Vector Machines (SVM)"
   ]
  },
  {
   "cell_type": "code",
   "execution_count": 16,
   "metadata": {
    "scrolled": true
   },
   "outputs": [],
   "source": [
    "from sklearn.metrics import fbeta_score, accuracy_score, precision_score, recall_score\n",
    "\n",
    "def train_predict(learner, sample_size, X_train, y_train, X_test, y_test): \n",
    "    '''\n",
    "    inputs:\n",
    "       - learner: the learning algorithm to be trained and predicted on\n",
    "       - sample_size: the size of samples (number) to be drawn from training set\n",
    "       - X_train: features training set\n",
    "       - y_train: income training set\n",
    "       - X_test: features testing set\n",
    "       - y_test: income testing set\n",
    "    '''\n",
    "    \n",
    "    results = {}\n",
    "    \n",
    "    start = time() # Get start time\n",
    "    print (learner)\n",
    "    learner.fit(X_train[:sample_size], y_train[:sample_size])\n",
    "    end = time() # Get end time\n",
    "    \n",
    "    results['train_time'] = end - start\n",
    "        \n",
    "    start = time() # Get start time\n",
    "    predictions_test = learner.predict(X_test)\n",
    "    predictions_train = learner.predict(X_train[:sample_size])\n",
    "    end = time() # Get end time\n",
    "    \n",
    "    results['pred_time'] = end - start\n",
    "    results['acc_train'] = accuracy_score(y_train[:sample_size], predictions_train)\n",
    "    results['acc_test'] = accuracy_score(y_test, predictions_test)\n",
    "    results['f_train'] = fbeta_score(y_train[:sample_size], predictions_train, beta=bt)\n",
    "    results['f_test'] = fbeta_score(y_test, predictions_test, beta=bt)\n",
    "       \n",
    "    # Success\n",
    "    print(\"{} trained on {} samples.\".format(learner.__class__.__name__, sample_size))\n",
    "        \n",
    "    # Return the results\n",
    "    return results\n",
    "    "
   ]
  },
  {
   "cell_type": "markdown",
   "metadata": {},
   "source": [
    "### Models Evaluation\n",
    "In the code cell, I will:\n",
    "- Import and initialize the three models and store them in `'clf_A'`, `'clf_B'`, and `'clf_C'`.\n",
    "- Calculate the number of records equal to 1%, 10%, and 100% of the training data; Stored as `'samples_1'`, `'samples_10'`, and `'samples_100'` respectively."
   ]
  },
  {
   "cell_type": "code",
   "execution_count": 17,
   "metadata": {
    "scrolled": false
   },
   "outputs": [
    {
     "name": "stdout",
     "output_type": "stream",
     "text": [
      "XGBClassifier(base_score=0.5, booster='gbtree', colsample_bylevel=1,\n",
      "       colsample_bytree=1, gamma=0, learning_rate=0.1, max_delta_step=0,\n",
      "       max_depth=3, min_child_weight=1, missing=None, n_estimators=100,\n",
      "       n_jobs=1, nthread=None, objective='binary:logistic', random_state=0,\n",
      "       reg_alpha=0, reg_lambda=1, scale_pos_weight=1, seed=None,\n",
      "       silent=True, subsample=1)\n"
     ]
    },
    {
     "name": "stderr",
     "output_type": "stream",
     "text": [
      "C:\\Users\\DAVID-MIS\\AppData\\Roaming\\Python\\Python36\\site-packages\\sklearn\\preprocessing\\label.py:151: DeprecationWarning: The truth value of an empty array is ambiguous. Returning False, but in future this will result in an error. Use `array.size > 0` to check that an array is not empty.\n",
      "  if diff:\n",
      "C:\\Users\\DAVID-MIS\\AppData\\Roaming\\Python\\Python36\\site-packages\\sklearn\\preprocessing\\label.py:151: DeprecationWarning: The truth value of an empty array is ambiguous. Returning False, but in future this will result in an error. Use `array.size > 0` to check that an array is not empty.\n",
      "  if diff:\n"
     ]
    },
    {
     "name": "stdout",
     "output_type": "stream",
     "text": [
      "XGBClassifier trained on 760 samples.\n",
      "XGBClassifier(base_score=0.5, booster='gbtree', colsample_bylevel=1,\n",
      "       colsample_bytree=1, gamma=0, learning_rate=0.1, max_delta_step=0,\n",
      "       max_depth=3, min_child_weight=1, missing=None, n_estimators=100,\n",
      "       n_jobs=1, nthread=None, objective='binary:logistic', random_state=0,\n",
      "       reg_alpha=0, reg_lambda=1, scale_pos_weight=1, seed=None,\n",
      "       silent=True, subsample=1)\n"
     ]
    },
    {
     "name": "stderr",
     "output_type": "stream",
     "text": [
      "C:\\Users\\DAVID-MIS\\AppData\\Roaming\\Python\\Python36\\site-packages\\sklearn\\preprocessing\\label.py:151: DeprecationWarning: The truth value of an empty array is ambiguous. Returning False, but in future this will result in an error. Use `array.size > 0` to check that an array is not empty.\n",
      "  if diff:\n",
      "C:\\Users\\DAVID-MIS\\AppData\\Roaming\\Python\\Python36\\site-packages\\sklearn\\preprocessing\\label.py:151: DeprecationWarning: The truth value of an empty array is ambiguous. Returning False, but in future this will result in an error. Use `array.size > 0` to check that an array is not empty.\n",
      "  if diff:\n"
     ]
    },
    {
     "name": "stdout",
     "output_type": "stream",
     "text": [
      "XGBClassifier trained on 7600 samples.\n",
      "XGBClassifier(base_score=0.5, booster='gbtree', colsample_bylevel=1,\n",
      "       colsample_bytree=1, gamma=0, learning_rate=0.1, max_delta_step=0,\n",
      "       max_depth=3, min_child_weight=1, missing=None, n_estimators=100,\n",
      "       n_jobs=1, nthread=None, objective='binary:logistic', random_state=0,\n",
      "       reg_alpha=0, reg_lambda=1, scale_pos_weight=1, seed=None,\n",
      "       silent=True, subsample=1)\n"
     ]
    },
    {
     "name": "stderr",
     "output_type": "stream",
     "text": [
      "C:\\Users\\DAVID-MIS\\AppData\\Roaming\\Python\\Python36\\site-packages\\sklearn\\preprocessing\\label.py:151: DeprecationWarning: The truth value of an empty array is ambiguous. Returning False, but in future this will result in an error. Use `array.size > 0` to check that an array is not empty.\n",
      "  if diff:\n",
      "C:\\Users\\DAVID-MIS\\AppData\\Roaming\\Python\\Python36\\site-packages\\sklearn\\preprocessing\\label.py:151: DeprecationWarning: The truth value of an empty array is ambiguous. Returning False, but in future this will result in an error. Use `array.size > 0` to check that an array is not empty.\n",
      "  if diff:\n"
     ]
    },
    {
     "name": "stdout",
     "output_type": "stream",
     "text": [
      "XGBClassifier trained on 76000 samples.\n",
      "DecisionTreeClassifier(class_weight=None, criterion='gini', max_depth=None,\n",
      "            max_features=None, max_leaf_nodes=None,\n",
      "            min_impurity_decrease=0.0, min_impurity_split=None,\n",
      "            min_samples_leaf=1, min_samples_split=2,\n",
      "            min_weight_fraction_leaf=0.0, presort=False, random_state=None,\n",
      "            splitter='best')\n",
      "DecisionTreeClassifier trained on 760 samples.\n",
      "DecisionTreeClassifier(class_weight=None, criterion='gini', max_depth=None,\n",
      "            max_features=None, max_leaf_nodes=None,\n",
      "            min_impurity_decrease=0.0, min_impurity_split=None,\n",
      "            min_samples_leaf=1, min_samples_split=2,\n",
      "            min_weight_fraction_leaf=0.0, presort=False, random_state=None,\n",
      "            splitter='best')\n",
      "DecisionTreeClassifier trained on 7600 samples.\n",
      "DecisionTreeClassifier(class_weight=None, criterion='gini', max_depth=None,\n",
      "            max_features=None, max_leaf_nodes=None,\n",
      "            min_impurity_decrease=0.0, min_impurity_split=None,\n",
      "            min_samples_leaf=1, min_samples_split=2,\n",
      "            min_weight_fraction_leaf=0.0, presort=False, random_state=None,\n",
      "            splitter='best')\n",
      "DecisionTreeClassifier trained on 76000 samples.\n",
      "SVC(C=1.0, cache_size=200, class_weight=None, coef0=0.0,\n",
      "  decision_function_shape='ovr', degree=3, gamma='auto', kernel='rbf',\n",
      "  max_iter=-1, probability=False, random_state=None, shrinking=True,\n",
      "  tol=0.001, verbose=False)\n",
      "SVC trained on 760 samples.\n",
      "SVC(C=1.0, cache_size=200, class_weight=None, coef0=0.0,\n",
      "  decision_function_shape='ovr', degree=3, gamma='auto', kernel='rbf',\n",
      "  max_iter=-1, probability=False, random_state=None, shrinking=True,\n",
      "  tol=0.001, verbose=False)\n",
      "SVC trained on 7600 samples.\n",
      "SVC(C=1.0, cache_size=200, class_weight=None, coef0=0.0,\n",
      "  decision_function_shape='ovr', degree=3, gamma='auto', kernel='rbf',\n",
      "  max_iter=-1, probability=False, random_state=None, shrinking=True,\n",
      "  tol=0.001, verbose=False)\n",
      "SVC trained on 76000 samples.\n"
     ]
    },
    {
     "data": {
      "image/png": "[encoded data removed]",
      "text/plain": [
       "<Figure size 3600x3240 with 6 Axes>"
      ]
     },
     "metadata": {},
     "output_type": "display_data"
    },
    {
     "name": "stdout",
     "output_type": "stream",
     "text": [
      "738.2926003932953\n"
     ]
    }
   ],
   "source": [
    "from sklearn.naive_bayes import GaussianNB\n",
    "from sklearn.tree import DecisionTreeClassifier\n",
    "from sklearn import svm\n",
    "from xgboost import XGBClassifier\n",
    "\n",
    "start_time = time()\n",
    "\n",
    "clf_A = XGBClassifier()\n",
    "clf_B = DecisionTreeClassifier()\n",
    "clf_C = svm.SVC()\n",
    "\n",
    "samples_100 = len(y_train)\n",
    "samples_10 = int(float(10)/float(100) * len(y_train))\n",
    "samples_1 = int(float(1)/float(100) * len(y_train))\n",
    "\n",
    "# Collect results on the learners\n",
    "results = {}\n",
    "for clf in [clf_A, clf_B, clf_C]:\n",
    "    clf_name = clf.__class__.__name__\n",
    "    results[clf_name] = {}\n",
    "    for i, samples in enumerate([samples_1, samples_10, samples_100]):\n",
    "        results[clf_name][i] = train_predict(clf, samples, X_train, y_train, X_test, y_test)\n",
    "    \n",
    "\n",
    "# Run metrics visualization for the thresupervised learning models chosen\n",
    "vs.evaluate(results, accuracy, fscore)\n",
    "\n",
    "print(time() - start_time)"
   ]
  },
  {
   "cell_type": "markdown",
   "metadata": {},
   "source": [
    "### Model Tuning\n",
    "Use `GridSearchCV` to acquire the best hyperparameters, and `ShuffleSplit` algorithm as the cross-validation algorithm of choice"
   ]
  },
  {
   "cell_type": "code",
   "execution_count": 25,
   "metadata": {
    "scrolled": true
   },
   "outputs": [
    {
     "name": "stdout",
     "output_type": "stream",
     "text": [
      "DecisionTreeClassifier(class_weight=None, criterion='gini', max_depth=20,\n",
      "            max_features=None, max_leaf_nodes=None,\n",
      "            min_impurity_decrease=0.0, min_impurity_split=None,\n",
      "            min_samples_leaf=5, min_samples_split=250,\n",
      "            min_weight_fraction_leaf=0.0, presort=False, random_state=None,\n",
      "            splitter='best')\n",
      "Unoptimized model\n",
      "------\n",
      "Accuracy score on testing data: 0.7675\n",
      "F-score on testing data: 0.4691\n",
      "\n",
      "Optimized Model\n",
      "------\n",
      "Final accuracy score on the testing data: 0.7675\n",
      "Final F-score on the testing data: 0.4691\n",
      "1186.522183418274\n"
     ]
    }
   ],
   "source": [
    "from sklearn.model_selection import GridSearchCV\n",
    "from sklearn.metrics import make_scorer\n",
    "from sklearn.tree import DecisionTreeClassifier\n",
    "from sklearn.model_selection import ShuffleSplit,cross_val_score\n",
    "\n",
    "start_time = time()\n",
    "\n",
    "# TODO: Initialize the classifier\n",
    "clf = DecisionTreeClassifier() #XGBClassifier() #DecisionTreeClassifier()\n",
    "\n",
    "parameters = {'max_depth': [5,10,20], 'min_samples_leaf': [5,10,20,30,60,100], 'min_samples_split': range(10,500,20) }\n",
    "#parameters = {'max_depth': [5,10], 'learning_rate': [0.1, 0.01], 'n_estimators': [100]}\n",
    "\n",
    "# TODO: Make an fbeta_score scoring object using make_scorer()\n",
    "scorer = make_scorer(fbeta_score, beta=bt)\n",
    "\n",
    "cvsets = ShuffleSplit(n_splits = 10, test_size=.2, random_state=100)\n",
    "\n",
    "#performing gridsearch\n",
    "grid_obj = GridSearchCV(clf, param_grid = parameters, scoring=scorer, cv = cvsets)\n",
    "\n",
    "grid_fit = grid_obj.fit(X_train, y_train)\n",
    "\n",
    "# Get the estimator\n",
    "best_clf = grid_fit.best_estimator_\n",
    "\n",
    "# Make predictions using the unoptimized and model\n",
    "predictions = grid_fit.predict(X_test)\n",
    "best_predictions = best_clf.predict(X_test)\n",
    "\n",
    "print(best_clf)\n",
    "\n",
    "# Report the before-and-afterscores\n",
    "print(\"Unoptimized model\\n------\")\n",
    "print(\"Accuracy score on testing data: {:.4f}\".format(accuracy_score(y_test, predictions)))\n",
    "#print(\"Precision score on testing data: {:.4f}\".format(precision_score(y_test, predictions)))\n",
    "#print(\"Recall score on testing data: {:.4f}\".format(recall_score(y_test, predictions)))\n",
    "print(\"F-score on testing data: {:.4f}\".format(fbeta_score(y_test, predictions, beta = bt)))\n",
    "\n",
    "print(\"\\nOptimized Model\\n------\")\n",
    "print(\"Final accuracy score on the testing data: {:.4f}\".format(accuracy_score(y_test, best_predictions)))\n",
    "print(\"Final F-score on the testing data: {:.4f}\".format(fbeta_score(y_test, best_predictions, beta = bt)))\n",
    "\n",
    "print(time() - start_time)"
   ]
  },
  {
   "cell_type": "markdown",
   "metadata": {},
   "source": [
    "#### Checking for Robustness"
   ]
  },
  {
   "cell_type": "code",
   "execution_count": 24,
   "metadata": {},
   "outputs": [
    {
     "name": "stdout",
     "output_type": "stream",
     "text": [
      "\n",
      "Random state:0  ******************************************************************\n",
      "Testing Score 0.7680526315789473\n",
      "Accuracy for individual fold [0.7680526315789473, 0.7631052631578947, 0.7666315789473684, 0.7648421052631579, 0.7665263157894737, 0.7668421052631579, 0.7636315789473684, 0.7641052631578947, 0.7641052631578947, 0.7680526315789473]\n",
      "Accuracy: 0.7656 (+/- 0.00350)\n",
      "Min Accuracy: 0.7621, Max Accuracy: 0.7691\n",
      "Min Accuracy Diff 0.0060, Max Acc Diff: 0.0010\n",
      "Test Accuracy tends towards Fold-Mean Max Accuracy\n",
      "\n",
      "Random state:50  ******************************************************************\n",
      "Testing Score 0.7680526315789473\n",
      "Accuracy for individual fold [0.7669473684210526, 0.7683684210526316, 0.7617368421052632, 0.7706842105263157, 0.7667894736842106, 0.766421052631579, 0.7695263157894737, 0.7660526315789473, 0.7637368421052632, 0.7629473684210526]\n",
      "Accuracy: 0.7663 (+/- 0.00541)\n",
      "Min Accuracy: 0.7609, Max Accuracy: 0.7717\n",
      "Min Accuracy Diff 0.0071, Max Acc Diff: 0.0037\n",
      "Test Accuracy tends towards Fold-Mean Max Accuracy\n",
      "\n",
      "Random state:100  ******************************************************************\n",
      "Testing Score 0.7680526315789473\n",
      "Accuracy for individual fold [0.7652105263157895, 0.7704736842105263, 0.7656315789473684, 0.7703684210526316, 0.7659473684210526, 0.7581578947368421, 0.7674210526315789, 0.7685263157894737, 0.7657894736842106, 0.7593157894736842]\n",
      "Accuracy: 0.7657 (+/- 0.00784)\n",
      "Min Accuracy: 0.7578, Max Accuracy: 0.7735\n",
      "Min Accuracy Diff 0.0102, Max Acc Diff: 0.0055\n",
      "Test Accuracy tends towards Fold-Mean Max Accuracy\n",
      "\n",
      "Random state:300  ******************************************************************\n",
      "Testing Score 0.7680526315789473\n",
      "Accuracy for individual fold [0.7676315789473684, 0.7643157894736842, 0.759421052631579, 0.7653684210526316, 0.7653157894736842, 0.7602631578947369, 0.7642631578947369, 0.7649473684210526, 0.7693684210526316, 0.7608947368421053]\n",
      "Accuracy: 0.7642 (+/- 0.00603)\n",
      "Min Accuracy: 0.7581, Max Accuracy: 0.7702\n",
      "Min Accuracy Diff 0.0099, Max Acc Diff: 0.0022\n",
      "Test Accuracy tends towards Fold-Mean Max Accuracy\n",
      "\n",
      "Random state:700  ******************************************************************\n",
      "Testing Score 0.7680526315789473\n",
      "Accuracy for individual fold [0.7648421052631579, 0.7630526315789473, 0.7599473684210526, 0.7689473684210526, 0.7608947368421053, 0.7650526315789473, 0.7663157894736842, 0.7663684210526316, 0.7688421052631579, 0.7626842105263157]\n",
      "Accuracy: 0.7647 (+/- 0.00582)\n",
      "Min Accuracy: 0.7589, Max Accuracy: 0.7705\n",
      "Min Accuracy Diff 0.0092, Max Acc Diff: 0.0025\n",
      "Test Accuracy tends towards Fold-Mean Max Accuracy\n",
      "\n",
      "Random state:1000  ******************************************************************\n",
      "Testing Score 0.7680526315789473\n",
      "Accuracy for individual fold [0.7665263157894737, 0.7666315789473684, 0.7620526315789473, 0.7607368421052632, 0.7658421052631579, 0.7627368421052632, 0.763578947368421, 0.7661052631578947, 0.7644736842105263, 0.7661052631578947]\n",
      "Accuracy: 0.7645 (+/- 0.00399)\n",
      "Min Accuracy: 0.7605, Max Accuracy: 0.7685\n",
      "Min Accuracy Diff 0.0076, Max Acc Diff: 0.0004\n",
      "Test Accuracy tends towards Fold-Mean Max Accuracy\n"
     ]
    }
   ],
   "source": [
    "#obtain fold scores\n",
    "testing_score = best_clf.score(X_test, y_test)\n",
    "\n",
    "for rnd in [0,50,100,300,700,1000]:\n",
    "    cv = ShuffleSplit(n_splits = 10, test_size=.2, random_state=rnd)\n",
    "    scores = cross_val_score(best_clf, features_final, hhgroup, cv=cv)\n",
    "    print('\\nRandom state:{}'.format(rnd),' ******************************************************************')\n",
    "    print('Testing Score', testing_score)\n",
    "    # Print the accuracy for each fold:\n",
    "    print('Accuracy for individual fold', list(scores))\n",
    "    # And the mean / std of all 5 folds:\n",
    "    \n",
    "    #print(scores.std())\n",
    "    calcstd = scores.std() * 2\n",
    "    minscore = scores.mean() - calcstd\n",
    "    maxscore = scores.mean() + calcstd\n",
    "    min_accuracy_diff = testing_score - minscore\n",
    "    max_accuracy_diff = maxscore - testing_score\n",
    "    print('Accuracy: %0.4f (+/- %0.5f)' % (scores.mean(), calcstd)) \n",
    "    print('Min Accuracy: %0.4f, Max Accuracy: %0.4f'% (minscore, maxscore))\n",
    "    print('Min Accuracy Diff %0.4f, Max Acc Diff: %0.4f'% (testing_score - minscore, maxscore - testing_score))\n",
    "    if (max_accuracy_diff < min_accuracy_diff):\n",
    "        print('Test Accuracy tends towards Fold-Mean Max Accuracy')\n",
    "    else:\n",
    "        print('Test Accuracy tends towards Fold-Mean Min Accuracy')"
   ]
  },
  {
   "cell_type": "markdown",
   "metadata": {},
   "source": [
    "### Model Final Evaluation\n",
    "\n",
    "\n",
    "|     Metric     | Unoptimized Model | Optimized Model |\n",
    "| :------------: | :---------------: | :-------------: | \n",
    "| Accuracy Score |         0.7675   |   0.7675          |\n",
    "| F-score        |           0.4691        |   0.4691|\n"
   ]
  },
  {
   "cell_type": "markdown",
   "metadata": {},
   "source": [
    "###  Extracting Feature Importance\n",
    "We'll be using a classification algorithm which has `feature_importance` implementation. Will set the best classification algorithm (best_clf) obtained above (in our case a decisiontreeclassifier) as the base estimator.  "
   ]
  },
  {
   "cell_type": "code",
   "execution_count": 26,
   "metadata": {
    "scrolled": true
   },
   "outputs": [
    {
     "data": {
      "image/png": "[encoded data removed]",
      "text/plain": [
       "<Figure size 1440x360 with 1 Axes>"
      ]
     },
     "metadata": {},
     "output_type": "display_data"
    },
    {
     "data": {
      "text/plain": [
       "'\\nfrom xgboost import plot_importance\\nfrom matplotlib import pyplot\\nplot feature importance\\nplot_importance(clf)\\npyplot.show()\\n'"
      ]
     },
     "execution_count": 26,
     "metadata": {},
     "output_type": "execute_result"
    }
   ],
   "source": [
    "from sklearn.ensemble import AdaBoostClassifier\n",
    "#from sklearn.tree import DecisionTreeClassifier\n",
    "\n",
    "clf = AdaBoostClassifier(base_estimator = best_clf) #DecisionTreeClassifier(max_depth=10))\n",
    "\n",
    "model = clf.fit(X_train, y_train)\n",
    "importances = clf.estimators_[0].feature_importances_\n",
    "\n",
    "# Plot\n",
    "#print(importances)\n",
    "vs.feature_plot(importances, X_train, y_train)\n",
    "\n",
    "'''\n",
    "from xgboost import plot_importance\n",
    "from matplotlib import pyplot\n",
    "plot feature importance\n",
    "plot_importance(clf)\n",
    "pyplot.show()\n",
    "'''"
   ]
  },
  {
   "cell_type": "markdown",
   "metadata": {},
   "source": [
    "### Feature Selection\n",
    "Training *best_clf* on a reduced feature space. We'll check whether reducing the featureset produces equal or better scores"
   ]
  },
  {
   "cell_type": "code",
   "execution_count": 27,
   "metadata": {
    "scrolled": true
   },
   "outputs": [
    {
     "name": "stdout",
     "output_type": "stream",
     "text": [
      "Final Model trained on full data\n",
      "------\n",
      "Accuracy on testing data: 0.7675\n",
      "F-score on testing data: 0.4691\n",
      "\n",
      "Final Model trained on reduced data\n",
      "------\n",
      "Accuracy on testing data: 0.7647\n",
      "F-score on testing data: 0.4205\n"
     ]
    }
   ],
   "source": [
    "from sklearn.base import clone\n",
    "\n",
    "# Reduce the feature space\n",
    "X_train_reduced = X_train[X_train.columns.values[(np.argsort(importances)[::-1])[:5]]]\n",
    "X_test_reduced = X_test[X_test.columns.values[(np.argsort(importances)[::-1])[:5]]]\n",
    "\n",
    "# Train on the \"best\" model found from grid search earlier\n",
    "clf = (clone(best_clf)).fit(X_train_reduced, y_train)\n",
    "\n",
    "# Make new predictions\n",
    "reduced_predictions = clf.predict(X_test_reduced)\n",
    "\n",
    "# Report scores from the final model using both versions of data\n",
    "print(\"Final Model trained on full data\\n------\")\n",
    "print(\"Accuracy on testing data: {:.4f}\".format(accuracy_score(y_test, best_predictions)))\n",
    "print(\"F-score on testing data: {:.4f}\".format(fbeta_score(y_test, best_predictions, beta = bt)))\n",
    "print(\"\\nFinal Model trained on reduced data\\n------\")\n",
    "print(\"Accuracy on testing data: {:.4f}\".format(accuracy_score(y_test, reduced_predictions)))\n",
    "print(\"F-score on testing data: {:.4f}\".format(fbeta_score(y_test, reduced_predictions, beta = bt)))"
   ]
  },
  {
   "cell_type": "markdown",
   "metadata": {},
   "source": [
    "Performance on the reduced feature space does abit worse than using the full featureset. This was expected since  the full featureset has few features to start with. Therefore there's no need to reduce the featureset in our particular case"
   ]
  }
 ],
 "metadata": {
  "kernelspec": {
   "display_name": "Python 3",
   "language": "python",
   "name": "python3"
  },
  "language_info": {
   "codemirror_mode": {
    "name": "ipython",
    "version": 3
   },
   "file_extension": ".py",
   "mimetype": "text/x-python",
   "name": "python",
   "nbconvert_exporter": "python",
   "pygments_lexer": "ipython3",
   "version": "3.6.4"
  }
 },
 "nbformat": 4,
 "nbformat_minor": 1
}
